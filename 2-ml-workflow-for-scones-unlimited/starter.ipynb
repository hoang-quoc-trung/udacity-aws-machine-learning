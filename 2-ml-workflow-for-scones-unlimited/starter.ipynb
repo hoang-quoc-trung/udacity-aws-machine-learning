{
 "cells": [
  {
   "cell_type": "markdown",
   "metadata": {},
   "source": [
    "# Deploy and monitor a machine learning workflow for Image Classification"
   ]
  },
  {
   "cell_type": "markdown",
   "metadata": {},
   "source": [
    "## Setting up this notebook\n",
    "\n",
    "Notes about the instance size and kernel setup: this notebook has been tested on\n",
    "\n",
    "1. The `Python 3 (Data Science)` kernel\n",
    "2. The `ml.t3.medium` Sagemaker notebook instance\n",
    "\n",
    "## Data Staging\n",
    "\n",
    "We'll use a sample dataset called CIFAR to simulate the challenges Scones Unlimited are facing in Image Classification. In order to start working with CIFAR we'll need to:\n",
    "\n",
    "1. Extract the data from a hosting service\n",
    "2. Transform it into a usable shape and format\n",
    "3. Load it into a production system\n",
    "\n",
    "In other words, we're going to do some simple ETL!\n",
    "\n",
    "### 1. Extract the data from the hosting service\n",
    "\n",
    "In the cell below, define a function `extract_cifar_data` that extracts python version of the CIFAR-100 dataset. The CIFAR dataaset is open source and generously hosted by the University of Toronto at: https://www.cs.toronto.edu/~kriz/cifar-100-python.tar.gz "
   ]
  },
  {
   "cell_type": "code",
   "execution_count": 4,
   "metadata": {
    "tags": []
   },
   "outputs": [],
   "source": [
    "import requests\n",
    "\n",
    "def extract_cifar_data(url, filename=\"cifar.tar.gz\"):\n",
    "    \"\"\"A function for extracting the CIFAR-100 dataset and storing it as a gzipped file\n",
    "    \n",
    "    Arguments:\n",
    "    url      -- the URL where the dataset is hosted\n",
    "    filename -- the full path where the dataset will be written\n",
    "    \n",
    "    \"\"\"\n",
    "    \n",
    "    # Todo: request the data from the data url\n",
    "    # Hint: use `requests.get` method\n",
    "    r = requests.get(url, stream=True)\n",
    "    with open(filename, \"wb\") as file_context:\n",
    "        file_context.write(r.content)\n",
    "    print(f\"Dataset successfully downloaded and saved as {filename}.\")\n",
    "    return"
   ]
  },
  {
   "cell_type": "markdown",
   "metadata": {},
   "source": [
    "Let's test it out! Run the following cell and check whether a new file `cifar.tar.gz` is created in the file explorer."
   ]
  },
  {
   "cell_type": "code",
   "execution_count": 6,
   "metadata": {
    "tags": []
   },
   "outputs": [
    {
     "name": "stdout",
     "output_type": "stream",
     "text": [
      "Dataset successfully downloaded and saved as cifar.tar.gz.\n"
     ]
    }
   ],
   "source": [
    "extract_cifar_data(\"https://www.cs.toronto.edu/~kriz/cifar-100-python.tar.gz\")"
   ]
  },
  {
   "cell_type": "markdown",
   "metadata": {},
   "source": [
    "### 2. Transform the data into a usable shape and format\n",
    "\n",
    "Clearly, distributing the data as a gzipped archive makes sense for the hosting service! It saves on bandwidth, storage, and it's a widely-used archive format. In fact, it's so widely used that the Python community ships a utility for working with them, `tarfile`, as part of its Standard Library. Execute the following cell to decompress your extracted dataset:"
   ]
  },
  {
   "cell_type": "code",
   "execution_count": 7,
   "metadata": {
    "tags": []
   },
   "outputs": [],
   "source": [
    "import tarfile\n",
    "\n",
    "with tarfile.open(\"cifar.tar.gz\", \"r:gz\") as tar:\n",
    "    tar.extractall()"
   ]
  },
  {
   "cell_type": "markdown",
   "metadata": {},
   "source": [
    "A new folder `cifar-100-python` should be created, containing `meta`, `test`, and `train` files. These files are `pickles` and the [CIFAR homepage](https://www.cs.toronto.edu/~kriz/cifar.html) provides a simple script that can be used to load them. We've adapted the script below for you to run:"
   ]
  },
  {
   "cell_type": "code",
   "execution_count": 8,
   "metadata": {
    "tags": []
   },
   "outputs": [],
   "source": [
    "import pickle\n",
    "\n",
    "with open(\"./cifar-100-python/meta\", \"rb\") as f:\n",
    "    dataset_meta = pickle.load(f, encoding='bytes')\n",
    "\n",
    "with open(\"./cifar-100-python/test\", \"rb\") as f:\n",
    "    dataset_test = pickle.load(f, encoding='bytes')\n",
    "\n",
    "with open(\"./cifar-100-python/train\", \"rb\") as f:\n",
    "    dataset_train = pickle.load(f, encoding='bytes')"
   ]
  },
  {
   "cell_type": "code",
   "execution_count": 36,
   "metadata": {
    "tags": []
   },
   "outputs": [
    {
     "name": "stdout",
     "output_type": "stream",
     "text": [
      "dataset_train keys: dict_keys([b'filenames', b'batch_label', b'fine_labels', b'coarse_labels', b'data'])\n",
      "dataset_test keys: dict_keys([b'filenames', b'batch_label', b'fine_labels', b'coarse_labels', b'data'])\n",
      "dataset_meta keys: dict_keys([b'fine_label_names', b'coarse_label_names'])\n"
     ]
    }
   ],
   "source": [
    "# Feel free to explore the datasets\n",
    "\n",
    "print(\"dataset_train keys:\", dataset_train.keys())\n",
    "print(\"dataset_test keys:\", dataset_test.keys())\n",
    "print(\"dataset_meta keys:\", dataset_meta.keys())"
   ]
  },
  {
   "cell_type": "code",
   "execution_count": 41,
   "metadata": {
    "tags": []
   },
   "outputs": [
    {
     "name": "stdout",
     "output_type": "stream",
     "text": [
      "Shape of dataset_train: (50000, 3072)\n",
      "\n",
      "dataset_meta - fine_label_names:\n",
      " [b'apple', b'aquarium_fish', b'baby', b'bear', b'beaver', b'bed', b'bee', b'beetle', b'bicycle', b'bottle', b'bowl', b'boy', b'bridge', b'bus', b'butterfly', b'camel', b'can', b'castle', b'caterpillar', b'cattle', b'chair', b'chimpanzee', b'clock', b'cloud', b'cockroach', b'couch', b'crab', b'crocodile', b'cup', b'dinosaur', b'dolphin', b'elephant', b'flatfish', b'forest', b'fox', b'girl', b'hamster', b'house', b'kangaroo', b'keyboard', b'lamp', b'lawn_mower', b'leopard', b'lion', b'lizard', b'lobster', b'man', b'maple_tree', b'motorcycle', b'mountain', b'mouse', b'mushroom', b'oak_tree', b'orange', b'orchid', b'otter', b'palm_tree', b'pear', b'pickup_truck', b'pine_tree', b'plain', b'plate', b'poppy', b'porcupine', b'possum', b'rabbit', b'raccoon', b'ray', b'road', b'rocket', b'rose', b'sea', b'seal', b'shark', b'shrew', b'skunk', b'skyscraper', b'snail', b'snake', b'spider', b'squirrel', b'streetcar', b'sunflower', b'sweet_pepper', b'table', b'tank', b'telephone', b'television', b'tiger', b'tractor', b'train', b'trout', b'tulip', b'turtle', b'wardrobe', b'whale', b'willow_tree', b'wolf', b'woman', b'worm']\n",
      "\n",
      "dataset_meta - coarse_label_names:\n",
      " [b'aquatic_mammals', b'fish', b'flowers', b'food_containers', b'fruit_and_vegetables', b'household_electrical_devices', b'household_furniture', b'insects', b'large_carnivores', b'large_man-made_outdoor_things', b'large_natural_outdoor_scenes', b'large_omnivores_and_herbivores', b'medium_mammals', b'non-insect_invertebrates', b'people', b'reptiles', b'small_mammals', b'trees', b'vehicles_1', b'vehicles_2']\n"
     ]
    }
   ],
   "source": [
    "print(\"Shape of dataset_train:\", dataset_train[b'data'].shape)\n",
    "print(\"\\ndataset_meta - fine_label_names:\\n\", dataset_meta[b'fine_label_names'])\n",
    "print(\"\\ndataset_meta - coarse_label_names:\\n\", dataset_meta[b'coarse_label_names'])"
   ]
  },
  {
   "cell_type": "markdown",
   "metadata": {},
   "source": [
    "As documented on the homepage, `b'data'` contains rows of 3073 unsigned integers, representing three channels (red, green, and blue) for one 32x32 pixel image per row."
   ]
  },
  {
   "cell_type": "code",
   "execution_count": 10,
   "metadata": {
    "tags": []
   },
   "outputs": [
    {
     "data": {
      "text/plain": [
       "3072"
      ]
     },
     "execution_count": 10,
     "metadata": {},
     "output_type": "execute_result"
    }
   ],
   "source": [
    "32*32*3"
   ]
  },
  {
   "cell_type": "markdown",
   "metadata": {},
   "source": [
    "For a simple gut-check, let's transform one of our images. Each 1024 items in a row is a channel (red, green, then blue). Each 32 items in the channel are a row in the 32x32 image. Using python, we can stack these channels into a 32x32x3 array, and save it as a PNG file:"
   ]
  },
  {
   "cell_type": "code",
   "execution_count": 11,
   "metadata": {
    "tags": []
   },
   "outputs": [],
   "source": [
    "import numpy as np\n",
    "\n",
    "# Each 1024 in a row is a channel (red, green, then blue)\n",
    "row = dataset_train[b'data'][0]\n",
    "red, green, blue = row[0:1024], row[1024:2048], row[2048:]\n",
    "\n",
    "# Each 32 items in the channel are a row in the 32x32 image\n",
    "red = red.reshape(32,32)\n",
    "green = green.reshape(32,32)\n",
    "blue = blue.reshape(32,32)\n",
    "\n",
    "# Combine the channels into a 32x32x3 image!\n",
    "combined = np.dstack((red,green,blue))"
   ]
  },
  {
   "cell_type": "markdown",
   "metadata": {},
   "source": [
    "For a more concise version, consider the following:"
   ]
  },
  {
   "cell_type": "code",
   "execution_count": 12,
   "metadata": {
    "tags": []
   },
   "outputs": [],
   "source": [
    "# All in one:\n",
    "test_image = np.dstack((\n",
    "    row[0:1024].reshape(32,32),\n",
    "    row[1024:2048].reshape(32,32),\n",
    "    row[2048:].reshape(32,32)\n",
    "))"
   ]
  },
  {
   "cell_type": "code",
   "execution_count": 15,
   "metadata": {
    "tags": []
   },
   "outputs": [
    {
     "data": {
      "image/png": "[encoded data removed]",
      "text/plain": [
       "<Figure size 640x480 with 1 Axes>"
      ]
     },
     "metadata": {},
     "output_type": "display_data"
    }
   ],
   "source": [
    "import matplotlib.pyplot as plt\n",
    "plt.imshow(test_image);"
   ]
  },
  {
   "cell_type": "markdown",
   "metadata": {},
   "source": [
    "Looks like a cow! Let's check the label. `dataset_meta` contains label names in order, and `dataset_train` has a list of labels for each row."
   ]
  },
  {
   "cell_type": "code",
   "execution_count": 30,
   "metadata": {
    "tags": []
   },
   "outputs": [
    {
     "data": {
      "text/plain": [
       "19"
      ]
     },
     "execution_count": 30,
     "metadata": {},
     "output_type": "execute_result"
    }
   ],
   "source": [
    "dataset_train[b'fine_labels'][0]"
   ]
  },
  {
   "cell_type": "markdown",
   "metadata": {},
   "source": [
    "Our image has a label of `19`, so let's see what the 19th item is in the list of label names."
   ]
  },
  {
   "cell_type": "code",
   "execution_count": 31,
   "metadata": {
    "tags": []
   },
   "outputs": [
    {
     "name": "stdout",
     "output_type": "stream",
     "text": [
      "b'cattle'\n"
     ]
    }
   ],
   "source": [
    "print(dataset_meta[b'fine_label_names'][19])"
   ]
  },
  {
   "cell_type": "markdown",
   "metadata": {},
   "source": [
    "Ok! 'cattle' sounds about right. By the way, using the previous two lines we can do:"
   ]
  },
  {
   "cell_type": "code",
   "execution_count": 32,
   "metadata": {
    "tags": []
   },
   "outputs": [
    {
     "name": "stdout",
     "output_type": "stream",
     "text": [
      "b'cattle'\n"
     ]
    }
   ],
   "source": [
    "n = 0\n",
    "print(dataset_meta[b'fine_label_names'][dataset_train[b'fine_labels'][n]])"
   ]
  },
  {
   "cell_type": "markdown",
   "metadata": {},
   "source": [
    "Now we know how to check labels, is there a way that we can also check file names? `dataset_train` also contains a `b'filenames'` key. Let's see what we have here:"
   ]
  },
  {
   "cell_type": "code",
   "execution_count": 33,
   "metadata": {
    "tags": []
   },
   "outputs": [
    {
     "name": "stdout",
     "output_type": "stream",
     "text": [
      "b'bos_taurus_s_000507.png'\n"
     ]
    }
   ],
   "source": [
    "print(dataset_train[b'filenames'][0])"
   ]
  },
  {
   "cell_type": "markdown",
   "metadata": {},
   "source": [
    "\"Taurus\" is the name of a subspecies of cattle, so this looks like a pretty reasonable filename. To save an image we can also do:"
   ]
  },
  {
   "cell_type": "code",
   "execution_count": 34,
   "metadata": {
    "tags": []
   },
   "outputs": [],
   "source": [
    "plt.imsave(\"file.png\", test_image)"
   ]
  },
  {
   "cell_type": "markdown",
   "metadata": {},
   "source": [
    "Your new PNG file should now appear in the file explorer -- go ahead and pop it open to see!\n",
    "\n",
    "Now that you know how to reshape the images, save them as files, and capture their filenames and labels, let's just capture all the bicycles and motorcycles and save them. Scones Unlimited can use a model that tells these apart to route delivery drivers automatically.\n",
    "\n",
    "In the following cell, identify the label numbers for Bicycles and Motorcycles:"
   ]
  },
  {
   "cell_type": "code",
   "execution_count": 49,
   "metadata": {
    "tags": []
   },
   "outputs": [
    {
     "name": "stdout",
     "output_type": "stream",
     "text": [
      "Bicycle label number: 8\n",
      "Motorcycle label number: 48\n"
     ]
    }
   ],
   "source": [
    "import pandas as pd\n",
    "\n",
    "# Todo: Filter the dataset_train and dataset_meta objects to find the label numbers for Bicycle and Motorcycles\n",
    "for i, name in enumerate(dataset_meta[b'fine_label_names']):\n",
    "    if name == b'bicycle':\n",
    "        print(\"Bicycle label number:\", i)\n",
    "    if name == b'motorcycle':\n",
    "        print(\"Motorcycle label number:\", i)"
   ]
  },
  {
   "cell_type": "markdown",
   "metadata": {},
   "source": [
    "Good job! We only need objects with label 8 and 48 -- this drastically simplifies our handling of the data! Below we construct a dataframe for you, and you can safely drop the rows that don't contain observations about bicycles and motorcycles. Fill in the missing lines below to drop all other rows:"
   ]
  },
  {
   "cell_type": "code",
   "execution_count": 70,
   "metadata": {
    "tags": []
   },
   "outputs": [
    {
     "data": {
      "text/html": [
       "<div>\n",
       "<style scoped>\n",
       "    .dataframe tbody tr th:only-of-type {\n",
       "        vertical-align: middle;\n",
       "    }\n",
       "\n",
       "    .dataframe tbody tr th {\n",
       "        vertical-align: top;\n",
       "    }\n",
       "\n",
       "    .dataframe thead th {\n",
       "        text-align: right;\n",
       "    }\n",
       "</style>\n",
       "<table border=\"1\" class=\"dataframe\">\n",
       "  <thead>\n",
       "    <tr style=\"text-align: right;\">\n",
       "      <th></th>\n",
       "      <th>filenames</th>\n",
       "      <th>labels</th>\n",
       "      <th>row</th>\n",
       "    </tr>\n",
       "  </thead>\n",
       "  <tbody>\n",
       "    <tr>\n",
       "      <th>0</th>\n",
       "      <td>bike_s_000682.png</td>\n",
       "      <td>8</td>\n",
       "      <td>16</td>\n",
       "    </tr>\n",
       "    <tr>\n",
       "      <th>1</th>\n",
       "      <td>bike_s_000127.png</td>\n",
       "      <td>8</td>\n",
       "      <td>30</td>\n",
       "    </tr>\n",
       "    <tr>\n",
       "      <th>2</th>\n",
       "      <td>cycle_s_002598.png</td>\n",
       "      <td>8</td>\n",
       "      <td>130</td>\n",
       "    </tr>\n",
       "    <tr>\n",
       "      <th>3</th>\n",
       "      <td>minibike_s_000824.png</td>\n",
       "      <td>48</td>\n",
       "      <td>152</td>\n",
       "    </tr>\n",
       "    <tr>\n",
       "      <th>4</th>\n",
       "      <td>motorcycle_s_001856.png</td>\n",
       "      <td>48</td>\n",
       "      <td>195</td>\n",
       "    </tr>\n",
       "  </tbody>\n",
       "</table>\n",
       "</div>"
      ],
      "text/plain": [
       "                 filenames  labels  row\n",
       "0        bike_s_000682.png       8   16\n",
       "1        bike_s_000127.png       8   30\n",
       "2       cycle_s_002598.png       8  130\n",
       "3    minibike_s_000824.png      48  152\n",
       "4  motorcycle_s_001856.png      48  195"
      ]
     },
     "execution_count": 70,
     "metadata": {},
     "output_type": "execute_result"
    }
   ],
   "source": [
    "#Construct the dataframe\n",
    "df_train = pd.DataFrame({\n",
    "    \"filenames\": dataset_train[b'filenames'],\n",
    "    \"labels\": dataset_train[b'fine_labels'],\n",
    "    \"row\": range(len(dataset_train[b'filenames']))\n",
    "})\n",
    "\n",
    "# Drop all rows from df_train where label is not 8 or 48\n",
    "df_train = df_train[(df_train['labels'] == 8) | (df_train['labels'] == 48)].reset_index(drop=True)\n",
    "\n",
    "# Decode df_train.filenames so they are regular strings\n",
    "df_train[\"filenames\"] = df_train[\"filenames\"].apply(\n",
    "    lambda x: x.decode(\"utf-8\")\n",
    ")\n",
    "\n",
    "df_test = pd.DataFrame({\n",
    "    \"filenames\": dataset_test[b'filenames'],\n",
    "    \"labels\": dataset_test[b'fine_labels'],\n",
    "    \"row\": range(len(dataset_test[b'filenames']))\n",
    "})\n",
    "\n",
    "# Drop all rows from df_test where label is not 8 or 48\n",
    "df_test = df_test[(df_test['labels'] == 8) | (df_test['labels'] == 48)].reset_index(drop=True)\n",
    "\n",
    "# Decode df_test.filenames so they are regular strings\n",
    "df_test[\"filenames\"] = df_test[\"filenames\"].apply(\n",
    "    lambda x: x.decode(\"utf-8\")\n",
    ")\n",
    "\n",
    "df_train.head()"
   ]
  },
  {
   "cell_type": "code",
   "execution_count": 71,
   "metadata": {
    "tags": []
   },
   "outputs": [
    {
     "data": {
      "text/html": [
       "<div>\n",
       "<style scoped>\n",
       "    .dataframe tbody tr th:only-of-type {\n",
       "        vertical-align: middle;\n",
       "    }\n",
       "\n",
       "    .dataframe tbody tr th {\n",
       "        vertical-align: top;\n",
       "    }\n",
       "\n",
       "    .dataframe thead th {\n",
       "        text-align: right;\n",
       "    }\n",
       "</style>\n",
       "<table border=\"1\" class=\"dataframe\">\n",
       "  <thead>\n",
       "    <tr style=\"text-align: right;\">\n",
       "      <th></th>\n",
       "      <th>filenames</th>\n",
       "      <th>labels</th>\n",
       "      <th>row</th>\n",
       "    </tr>\n",
       "  </thead>\n",
       "  <tbody>\n",
       "    <tr>\n",
       "      <th>0</th>\n",
       "      <td>safety_bike_s_000390.png</td>\n",
       "      <td>8</td>\n",
       "      <td>27</td>\n",
       "    </tr>\n",
       "    <tr>\n",
       "      <th>1</th>\n",
       "      <td>bike_s_000658.png</td>\n",
       "      <td>8</td>\n",
       "      <td>28</td>\n",
       "    </tr>\n",
       "    <tr>\n",
       "      <th>2</th>\n",
       "      <td>velocipede_s_001744.png</td>\n",
       "      <td>8</td>\n",
       "      <td>116</td>\n",
       "    </tr>\n",
       "    <tr>\n",
       "      <th>3</th>\n",
       "      <td>bike_s_000643.png</td>\n",
       "      <td>8</td>\n",
       "      <td>161</td>\n",
       "    </tr>\n",
       "    <tr>\n",
       "      <th>4</th>\n",
       "      <td>ordinary_bicycle_s_000437.png</td>\n",
       "      <td>8</td>\n",
       "      <td>319</td>\n",
       "    </tr>\n",
       "  </tbody>\n",
       "</table>\n",
       "</div>"
      ],
      "text/plain": [
       "                       filenames  labels  row\n",
       "0       safety_bike_s_000390.png       8   27\n",
       "1              bike_s_000658.png       8   28\n",
       "2        velocipede_s_001744.png       8  116\n",
       "3              bike_s_000643.png       8  161\n",
       "4  ordinary_bicycle_s_000437.png       8  319"
      ]
     },
     "execution_count": 71,
     "metadata": {},
     "output_type": "execute_result"
    }
   ],
   "source": [
    "df_test.head()"
   ]
  },
  {
   "cell_type": "markdown",
   "metadata": {},
   "source": [
    "Now that the data is filtered for just our classes, we can save all our images."
   ]
  },
  {
   "cell_type": "code",
   "execution_count": 85,
   "metadata": {
    "tags": []
   },
   "outputs": [],
   "source": [
    "!mkdir ./train\n",
    "!mkdir ./test"
   ]
  },
  {
   "cell_type": "markdown",
   "metadata": {},
   "source": [
    "In the previous sections we introduced you to several key snippets of code:\n",
    "\n",
    "1. Grabbing the image data:\n",
    "\n",
    "```python\n",
    "dataset_train[b'data'][0]\n",
    "```\n",
    "\n",
    "2. A simple idiom for stacking the image data into the right shape\n",
    "\n",
    "```python\n",
    "import numpy as np\n",
    "np.dstack((\n",
    "    row[0:1024].reshape(32,32),\n",
    "    row[1024:2048].reshape(32,32),\n",
    "    row[2048:].reshape(32,32)\n",
    "))\n",
    "```\n",
    "\n",
    "3. A simple `matplotlib` utility for saving images\n",
    "\n",
    "```python\n",
    "plt.imsave(path+row['filenames'], target)\n",
    "```\n",
    "\n",
    "Compose these together into a function that saves all the images into the `./test` and `./train` directories. Use the comments in the body of the `save_images` function below to guide your construction of the function:\n"
   ]
  },
  {
   "cell_type": "code",
   "execution_count": 87,
   "metadata": {
    "tags": []
   },
   "outputs": [
    {
     "name": "stdout",
     "output_type": "stream",
     "text": [
      "Saving success\n",
      "Saving success\n"
     ]
    }
   ],
   "source": [
    "import os\n",
    "\n",
    "def save_images(data_processed, data_raw, path):\n",
    "    for i in range(len(data_processed)):\n",
    "        # Grab the image data in row-major form\n",
    "        img = data_raw[b'data'][data_processed['row'][i]]\n",
    "        # Consolidated stacking/reshaping from earlier\n",
    "        target = np.dstack((\n",
    "            img[0:1024].reshape(32,32),\n",
    "            img[1024:2048].reshape(32,32),\n",
    "            img[2048:].reshape(32,32)\n",
    "        ))\n",
    "        # Save the image\n",
    "        image_name = data_processed['filenames'][i]\n",
    "        try:\n",
    "            image_path = os.path.join(path, image_name)\n",
    "            plt.imsave(image_path, target)\n",
    "        except e:\n",
    "            return f\"Error saving image {image_name}: {e}\"\n",
    "    # Return any signal data you want for debugging\n",
    "    return \"Saving success\"\n",
    "\n",
    "\n",
    "## TODO: save ALL images using the save_images function\n",
    "print(save_images(df_train, dataset_train, './train'))\n",
    "print(save_images(df_test, dataset_test, './test'))"
   ]
  },
  {
   "cell_type": "markdown",
   "metadata": {},
   "source": [
    "### 3. Load the data\n",
    "\n",
    "Now we can load the data into S3.\n",
    "\n",
    "Using the sagemaker SDK grab the current region, execution role, and bucket."
   ]
  },
  {
   "cell_type": "code",
   "execution_count": 32,
   "metadata": {
    "tags": []
   },
   "outputs": [
    {
     "name": "stdout",
     "output_type": "stream",
     "text": [
      "Default Bucket: udacity-project-3-trunghoang\n",
      "AWS Region: us-east-1\n",
      "RoleArn: arn:aws:iam::846641163109:role/service-role/AmazonSageMaker-ExecutionRole-20240822T083193\n"
     ]
    }
   ],
   "source": [
    "import sagemaker\n",
    "\n",
    "session = sagemaker.Session()\n",
    "\n",
    "bucket= 'udacity-project-3-trunghoang'\n",
    "print(\"Default Bucket: {}\".format(bucket))\n",
    "\n",
    "region = session.boto_region_name\n",
    "print(\"AWS Region: {}\".format(region))\n",
    "\n",
    "role = sagemaker.get_execution_role()\n",
    "print(\"RoleArn: {}\".format(role))"
   ]
  },
  {
   "cell_type": "markdown",
   "metadata": {},
   "source": [
    "With this data we can easily sync your data up into S3!"
   ]
  },
  {
   "cell_type": "code",
   "execution_count": 93,
   "metadata": {
    "tags": []
   },
   "outputs": [],
   "source": [
    "import os\n",
    "from IPython.display import clear_output\n",
    "\n",
    "os.environ[\"DEFAULT_S3_BUCKET\"] = bucket\n",
    "!aws s3 sync ./train s3://${DEFAULT_S3_BUCKET}/final-project/train/\n",
    "!aws s3 sync ./test s3://${DEFAULT_S3_BUCKET}/final-project/test/\n",
    "\n",
    "clear_output()"
   ]
  },
  {
   "cell_type": "markdown",
   "metadata": {},
   "source": [
    "And that's it! You can check the bucket and verify that the items were uploaded.\n",
    "\n",
    "## Model Training\n",
    "\n",
    "For Image Classification, Sagemaker [also expects metadata](https://docs.aws.amazon.com/sagemaker/latest/dg/image-classification.html) e.g. in the form of TSV files with labels and filepaths. We can generate these using our Pandas DataFrames from earlier:"
   ]
  },
  {
   "cell_type": "code",
   "execution_count": 92,
   "metadata": {
    "tags": []
   },
   "outputs": [],
   "source": [
    "def to_metadata_file(df, prefix):\n",
    "    df[\"s3_path\"] = df[\"filenames\"]\n",
    "    df[\"labels\"] = df[\"labels\"].apply(lambda x: 0 if x==8 else 1)\n",
    "    return df[[\"row\", \"labels\", \"s3_path\"]].to_csv(\n",
    "        f\"{prefix}.lst\", sep=\"\\t\", index=False, header=False\n",
    "    )\n",
    "    \n",
    "to_metadata_file(df_train.copy(), \"train\")\n",
    "to_metadata_file(df_test.copy(), \"test\")"
   ]
  },
  {
   "cell_type": "markdown",
   "metadata": {},
   "source": [
    "We can also upload our manifest files:"
   ]
  },
  {
   "cell_type": "code",
   "execution_count": 95,
   "metadata": {
    "tags": []
   },
   "outputs": [],
   "source": [
    "import boto3\n",
    "\n",
    "# Upload files\n",
    "boto3.Session().resource('s3').Bucket(\n",
    "    bucket\n",
    ").Object('final-project/train.lst').upload_file('./train.lst')\n",
    "\n",
    "boto3.Session().resource('s3').Bucket(\n",
    "    bucket\n",
    ").Object('final-project/test.lst').upload_file('./test.lst')"
   ]
  },
  {
   "cell_type": "markdown",
   "metadata": {},
   "source": [
    "Using the `bucket` and `region` info we can get the latest prebuilt container to run our training job, and define an output location on our s3 bucket for the model. Use the `image_uris` function from the SageMaker SDK to retrieve the latest `image-classification` image below:"
   ]
  },
  {
   "cell_type": "code",
   "execution_count": 97,
   "metadata": {
    "tags": []
   },
   "outputs": [
    {
     "name": "stderr",
     "output_type": "stream",
     "text": [
      "Defaulting to the only supported framework/algorithm version: 1. Ignoring framework/algorithm version: latest.\n"
     ]
    }
   ],
   "source": [
    "# Use the image_uris function to retrieve the latest 'image-classification' image \n",
    "algo_image = sagemaker.image_uris.retrieve(\n",
    "    framework=\"image-classification\", \n",
    "    region=region, \n",
    "    version=\"latest\"\n",
    ")\n",
    "s3_output_location = f\"s3://{bucket}/final-project/models/image_model\""
   ]
  },
  {
   "cell_type": "markdown",
   "metadata": {},
   "source": [
    "We're ready to create an estimator! Create an estimator `img_classifier_model` that uses one instance of `ml.p3.2xlarge`. Ensure that y ou use the output location we defined above - we'll be referring to that later!"
   ]
  },
  {
   "cell_type": "code",
   "execution_count": 98,
   "metadata": {
    "tags": []
   },
   "outputs": [],
   "source": [
    "img_classifier_model=sagemaker.estimator.Estimator(\n",
    "    ## TODO: define your estimator options \n",
    "    output_path=s3_output_location,\n",
    "    image_uri=algo_image,\n",
    "    instance_count=1,\n",
    "    instance_type='ml.p3.2xlarge',\n",
    "    role=role,\n",
    "    sagemaker_session=session\n",
    ")"
   ]
  },
  {
   "cell_type": "markdown",
   "metadata": {},
   "source": [
    "We can also set a few key hyperparameters and define the inputs for our model:"
   ]
  },
  {
   "cell_type": "code",
   "execution_count": 100,
   "metadata": {
    "tags": []
   },
   "outputs": [],
   "source": [
    "img_classifier_model.set_hyperparameters(\n",
    "    image_shape=\"3,32,32\", # TODO: Fill in\n",
    "    num_classes=len(df_train['labels'].unique()), # TODO: Fill in\n",
    "    num_training_samples=len(df_train) # TODO: fill in\n",
    ")"
   ]
  },
  {
   "cell_type": "markdown",
   "metadata": {},
   "source": [
    "The `image-classification` image uses four input channels with very specific input parameters. For convenience, we've provided them below:"
   ]
  },
  {
   "cell_type": "code",
   "execution_count": 107,
   "metadata": {
    "tags": []
   },
   "outputs": [],
   "source": [
    "from sagemaker.debugger import Rule, rule_configs\n",
    "from sagemaker.session import TrainingInput\n",
    "model_inputs = {\n",
    "        \"train\": sagemaker.inputs.TrainingInput(\n",
    "            s3_data=f\"s3://{bucket}/final-project/train/\",\n",
    "            content_type=\"application/x-image\"\n",
    "        ),\n",
    "        \"validation\": sagemaker.inputs.TrainingInput(\n",
    "            s3_data=f\"s3://{bucket}/final-project/test/\",\n",
    "            content_type=\"application/x-image\"\n",
    "        ),\n",
    "        \"train_lst\": sagemaker.inputs.TrainingInput(\n",
    "            s3_data=f\"s3://{bucket}/final-project/train.lst\",\n",
    "            content_type=\"application/x-image\"\n",
    "        ),\n",
    "        \"validation_lst\": sagemaker.inputs.TrainingInput(\n",
    "            s3_data=f\"s3://{bucket}/final-project/test.lst\",\n",
    "            content_type=\"application/x-image\"\n",
    "        )\n",
    "}"
   ]
  },
  {
   "cell_type": "markdown",
   "metadata": {},
   "source": [
    "Great, now we can train the model using the model_inputs. In the cell below, call the `fit` method on our model,:"
   ]
  },
  {
   "cell_type": "code",
   "execution_count": 108,
   "metadata": {
    "scrolled": true,
    "tags": []
   },
   "outputs": [
    {
     "name": "stderr",
     "output_type": "stream",
     "text": [
      "INFO:sagemaker:Creating training-job with name: image-classification-2024-09-11-08-50-17-152\n"
     ]
    },
    {
     "name": "stdout",
     "output_type": "stream",
     "text": [
      "2024-09-11 08:50:18 Starting - Starting the training job\n",
      "2024-09-11 08:50:18 Pending - Training job waiting for capacity......\n",
      "2024-09-11 08:51:10 Pending - Preparing the instances for training...\n",
      "2024-09-11 08:51:46 Downloading - Downloading input data...\n",
      "2024-09-11 08:52:07 Downloading - Downloading the training image..............................\n",
      "2024-09-11 08:57:05 Training - Training image download completed. Training in progress...\u001b[34mDocker entrypoint called with argument(s): train\u001b[0m\n",
      "\u001b[34mRunning default environment configuration script\u001b[0m\n",
      "\u001b[34mNvidia gpu devices, drivers and cuda toolkit versions (only available on hosts with GPU):\u001b[0m\n",
      "\u001b[34mWed Sep 11 08:57:32 2024       \u001b[0m\n",
      "\u001b[34m+---------------------------------------------------------------------------------------+\u001b[0m\n",
      "\u001b[34m| NVIDIA-SMI 535.183.01             Driver Version: 535.183.01   CUDA Version: 12.2     |\u001b[0m\n",
      "\u001b[34m|-----------------------------------------+----------------------+----------------------+\u001b[0m\n",
      "\u001b[34m| GPU  Name                 Persistence-M | Bus-Id        Disp.A | Volatile Uncorr. ECC |\u001b[0m\n",
      "\u001b[34m| Fan  Temp   Perf          Pwr:Usage/Cap |         Memory-Usage | GPU-Util  Compute M. |\u001b[0m\n",
      "\u001b[34m|                                         |                      |               MIG M. |\u001b[0m\n",
      "\u001b[34m|=========================================+======================+======================|\u001b[0m\n",
      "\u001b[34m|   0  Tesla V100-SXM2-16GB           On  | 00000000:00:1E.0 Off |                    0 |\u001b[0m\n",
      "\u001b[34m| N/A   29C    P0              23W / 300W |      0MiB / 16384MiB |      0%      Default |\u001b[0m\n",
      "\u001b[34m|                                         |                      |                  N/A |\u001b[0m\n",
      "\u001b[34m+-----------------------------------------+----------------------+----------------------+\n",
      "                                                                                         \u001b[0m\n",
      "\u001b[34m+---------------------------------------------------------------------------------------+\u001b[0m\n",
      "\u001b[34m| Processes:                                                                            |\u001b[0m\n",
      "\u001b[34m|  GPU   GI   CI        PID   Type   Process name                            GPU Memory |\u001b[0m\n",
      "\u001b[34m|        ID   ID                                                             Usage      |\u001b[0m\n",
      "\u001b[34m|=======================================================================================|\u001b[0m\n",
      "\u001b[34m|  No running processes found                                                           |\u001b[0m\n",
      "\u001b[34m+---------------------------------------------------------------------------------------+\u001b[0m\n",
      "\u001b[34mChecking for nvidia driver and cuda compatibility.\u001b[0m\n",
      "\u001b[34mCUDA Compatibility driver provided.\u001b[0m\n",
      "\u001b[34mProceeding with compatibility check between driver, cuda-toolkit and cuda-compat.\u001b[0m\n",
      "\u001b[34mDetected cuda-toolkit version: 11.1.\u001b[0m\n",
      "\u001b[34mDetected cuda-compat version: 455.32.00.\u001b[0m\n",
      "\u001b[34mDetected Nvidia driver version: 535.183.01.\u001b[0m\n",
      "\u001b[34mNvidia driver compatible with cuda-toolkit. Disabling cuda-compat.\u001b[0m\n",
      "\u001b[34m/opt/amazon/lib/python3.8/site-packages/mxnet/model.py:97: SyntaxWarning: \"is\" with a literal. Did you mean \"==\"?\n",
      "  if num_device is 1 and 'dist' not in kvstore:\u001b[0m\n",
      "\u001b[34m[09/11/2024 08:57:36 INFO 140708527675200] Reading default configuration from /opt/amazon/lib/python3.8/site-packages/image_classification/default-input.json: {'use_pretrained_model': 0, 'num_layers': 152, 'epochs': 30, 'learning_rate': 0.1, 'lr_scheduler_factor': 0.1, 'optimizer': 'sgd', 'momentum': 0, 'weight_decay': 0.0001, 'beta_1': 0.9, 'beta_2': 0.999, 'eps': 1e-08, 'gamma': 0.9, 'mini_batch_size': 32, 'image_shape': '3,224,224', 'precision_dtype': 'float32'}\u001b[0m\n",
      "\u001b[34m[09/11/2024 08:57:36 INFO 140708527675200] Merging with provided configuration from /opt/ml/input/config/hyperparameters.json: {'image_shape': '3,32,32', 'num_classes': '2', 'num_training_samples': '1000'}\u001b[0m\n",
      "\u001b[34m[09/11/2024 08:57:36 INFO 140708527675200] Final configuration: {'use_pretrained_model': 0, 'num_layers': 152, 'epochs': 30, 'learning_rate': 0.1, 'lr_scheduler_factor': 0.1, 'optimizer': 'sgd', 'momentum': 0, 'weight_decay': 0.0001, 'beta_1': 0.9, 'beta_2': 0.999, 'eps': 1e-08, 'gamma': 0.9, 'mini_batch_size': 32, 'image_shape': '3,32,32', 'precision_dtype': 'float32', 'num_classes': '2', 'num_training_samples': '1000'}\u001b[0m\n",
      "\u001b[34m[09/11/2024 08:57:36 INFO 140708527675200] Searching for .lst files in /opt/ml/input/data/train_lst.\u001b[0m\n",
      "\u001b[34m[09/11/2024 08:57:36 INFO 140708527675200] Creating record files for train.lst\u001b[0m\n",
      "\u001b[34m[09/11/2024 08:57:36 INFO 140708527675200] Done creating record files...\u001b[0m\n",
      "\u001b[34m[09/11/2024 08:57:36 INFO 140708527675200] Searching for .lst files in /opt/ml/input/data/validation_lst.\u001b[0m\n",
      "\u001b[34m[09/11/2024 08:57:36 INFO 140708527675200] Creating record files for test.lst\u001b[0m\n",
      "\u001b[34m[09/11/2024 08:57:36 INFO 140708527675200] Done creating record files...\u001b[0m\n",
      "\u001b[34m[09/11/2024 08:57:36 INFO 140708527675200] use_pretrained_model: 0\u001b[0m\n",
      "\u001b[34m[09/11/2024 08:57:36 INFO 140708527675200] multi_label: 0\u001b[0m\n",
      "\u001b[34m[09/11/2024 08:57:36 INFO 140708527675200] Performing random weight initialization\u001b[0m\n",
      "\u001b[34m[09/11/2024 08:57:36 INFO 140708527675200] ---- Parameters ----\u001b[0m\n",
      "\u001b[34m[09/11/2024 08:57:36 INFO 140708527675200] num_layers: 152\u001b[0m\n",
      "\u001b[34m[09/11/2024 08:57:36 INFO 140708527675200] data type: <class 'numpy.float32'>\u001b[0m\n",
      "\u001b[34m[09/11/2024 08:57:36 INFO 140708527675200] epochs: 30\u001b[0m\n",
      "\u001b[34m[09/11/2024 08:57:36 INFO 140708527675200] optimizer: sgd\u001b[0m\n",
      "\u001b[34m[09/11/2024 08:57:36 INFO 140708527675200] momentum: 0.9\u001b[0m\n",
      "\u001b[34m[09/11/2024 08:57:36 INFO 140708527675200] weight_decay: 0.0001\u001b[0m\n",
      "\u001b[34m[09/11/2024 08:57:36 INFO 140708527675200] learning_rate: 0.1\u001b[0m\n",
      "\u001b[34m[09/11/2024 08:57:36 INFO 140708527675200] num_training_samples: 1000\u001b[0m\n",
      "\u001b[34m[09/11/2024 08:57:36 INFO 140708527675200] mini_batch_size: 32\u001b[0m\n",
      "\u001b[34m[09/11/2024 08:57:36 INFO 140708527675200] image_shape: 3,32,32\u001b[0m\n",
      "\u001b[34m[09/11/2024 08:57:36 INFO 140708527675200] num_classes: 2\u001b[0m\n",
      "\u001b[34m[09/11/2024 08:57:36 INFO 140708527675200] augmentation_type: None\u001b[0m\n",
      "\u001b[34m[09/11/2024 08:57:36 INFO 140708527675200] kv_store: device\u001b[0m\n",
      "\u001b[34m[09/11/2024 08:57:36 INFO 140708527675200] checkpoint_frequency not set, will store the best model\u001b[0m\n",
      "\u001b[34m[09/11/2024 08:57:36 INFO 140708527675200] --------------------\u001b[0m\n",
      "\u001b[34m/opt/amazon/python3.8/lib/python3.8/subprocess.py:848: RuntimeWarning: line buffering (buffering=1) isn't supported in binary mode, the default buffer size will be used\n",
      "  self.stdout = io.open(c2pread, 'rb', bufsize)\u001b[0m\n",
      "\u001b[34m[09/11/2024 08:57:36 INFO 140708527675200] Setting number of threads: 7\u001b[0m\n",
      "\u001b[34m[08:57:40] /opt/brazil-pkg-cache/packages/AIAlgorithmsMXNet/AIAlgorithmsMXNet-1.4.x_ecl_Cuda_11.1.x.441.0/AL2_x86_64/generic-flavor/src/src/operator/nn/./cudnn/./cudnn_algoreg-inl.h:97: Running performance tests to find the best convolution algorithm, this can take a while... (setting env variable MXNET_CUDNN_AUTOTUNE_DEFAULT to 0 to disable)\u001b[0m\n",
      "\u001b[34m[09/11/2024 08:57:45 INFO 140708527675200] Epoch[0] Batch [20]#011Speed: 123.358 samples/sec#011accuracy=0.529762\u001b[0m\n",
      "\u001b[34m[09/11/2024 08:57:47 INFO 140708527675200] Epoch[0] Train-accuracy=0.581653\u001b[0m\n",
      "\u001b[34m[09/11/2024 08:57:47 INFO 140708527675200] Epoch[0] Time cost=6.840\u001b[0m\n",
      "\u001b[34m[09/11/2024 08:57:48 INFO 140708527675200] Epoch[0] Validation-accuracy=0.494792\u001b[0m\n",
      "\u001b[34m[09/11/2024 08:57:48 INFO 140708527675200] Storing the best model with validation accuracy: 0.494792\u001b[0m\n",
      "\u001b[34m[09/11/2024 08:57:48 INFO 140708527675200] Saved checkpoint to \"/opt/ml/model/image-classification-0001.params\"\u001b[0m\n",
      "\u001b[34m[09/11/2024 08:57:52 INFO 140708527675200] Epoch[1] Batch [20]#011Speed: 186.121 samples/sec#011accuracy=0.760417\u001b[0m\n",
      "\u001b[34m[09/11/2024 08:57:53 INFO 140708527675200] Epoch[1] Train-accuracy=0.752016\u001b[0m\n",
      "\u001b[34m[09/11/2024 08:57:53 INFO 140708527675200] Epoch[1] Time cost=5.078\u001b[0m\n",
      "\u001b[34m[09/11/2024 08:57:54 INFO 140708527675200] Epoch[1] Validation-accuracy=0.677083\u001b[0m\n",
      "\u001b[34m[09/11/2024 08:57:54 INFO 140708527675200] Storing the best model with validation accuracy: 0.677083\u001b[0m\n",
      "\u001b[34m[09/11/2024 08:57:54 INFO 140708527675200] Saved checkpoint to \"/opt/ml/model/image-classification-0002.params\"\u001b[0m\n",
      "\u001b[34m[09/11/2024 08:57:58 INFO 140708527675200] Epoch[2] Batch [20]#011Speed: 191.467 samples/sec#011accuracy=0.745536\u001b[0m\n",
      "\u001b[34m[09/11/2024 08:57:59 INFO 140708527675200] Epoch[2] Train-accuracy=0.734879\u001b[0m\n",
      "\u001b[34m[09/11/2024 08:57:59 INFO 140708527675200] Epoch[2] Time cost=4.960\u001b[0m\n",
      "\u001b[34m[09/11/2024 08:58:00 INFO 140708527675200] Epoch[2] Validation-accuracy=0.796875\u001b[0m\n",
      "\u001b[34m[09/11/2024 08:58:00 INFO 140708527675200] Storing the best model with validation accuracy: 0.796875\u001b[0m\n",
      "\u001b[34m[09/11/2024 08:58:01 INFO 140708527675200] Saved checkpoint to \"/opt/ml/model/image-classification-0003.params\"\u001b[0m\n",
      "\u001b[34m[09/11/2024 08:58:04 INFO 140708527675200] Epoch[3] Batch [20]#011Speed: 184.726 samples/sec#011accuracy=0.757440\u001b[0m\n",
      "\u001b[34m[09/11/2024 08:58:06 INFO 140708527675200] Epoch[3] Train-accuracy=0.780242\u001b[0m\n",
      "\u001b[34m[09/11/2024 08:58:06 INFO 140708527675200] Epoch[3] Time cost=5.102\u001b[0m\n",
      "\u001b[34m[09/11/2024 08:58:06 INFO 140708527675200] Epoch[3] Validation-accuracy=0.825893\u001b[0m\n",
      "\u001b[34m[09/11/2024 08:58:06 INFO 140708527675200] Storing the best model with validation accuracy: 0.825893\u001b[0m\n",
      "\u001b[34m[09/11/2024 08:58:07 INFO 140708527675200] Saved checkpoint to \"/opt/ml/model/image-classification-0004.params\"\u001b[0m\n",
      "\u001b[34m[09/11/2024 08:58:10 INFO 140708527675200] Epoch[4] Batch [20]#011Speed: 189.320 samples/sec#011accuracy=0.773810\u001b[0m\n",
      "\u001b[34m[09/11/2024 08:58:12 INFO 140708527675200] Epoch[4] Train-accuracy=0.780242\u001b[0m\n",
      "\u001b[34m[09/11/2024 08:58:12 INFO 140708527675200] Epoch[4] Time cost=5.026\u001b[0m\n",
      "\u001b[34m[09/11/2024 08:58:12 INFO 140708527675200] Epoch[4] Validation-accuracy=0.786458\u001b[0m\n",
      "\u001b[34m[09/11/2024 08:58:16 INFO 140708527675200] Epoch[5] Batch [20]#011Speed: 191.452 samples/sec#011accuracy=0.825893\u001b[0m\n",
      "\u001b[34m[09/11/2024 08:58:18 INFO 140708527675200] Epoch[5] Train-accuracy=0.814516\u001b[0m\n",
      "\u001b[34m[09/11/2024 08:58:18 INFO 140708527675200] Epoch[5] Time cost=4.981\u001b[0m\n",
      "\u001b[34m[09/11/2024 08:58:18 INFO 140708527675200] Epoch[5] Validation-accuracy=0.812500\u001b[0m\n",
      "\u001b[34m[09/11/2024 08:58:22 INFO 140708527675200] Epoch[6] Batch [20]#011Speed: 191.127 samples/sec#011accuracy=0.815476\u001b[0m\n",
      "\u001b[34m[09/11/2024 08:58:24 INFO 140708527675200] Epoch[6] Train-accuracy=0.815524\u001b[0m\n",
      "\u001b[34m[09/11/2024 08:58:24 INFO 140708527675200] Epoch[6] Time cost=4.980\u001b[0m\n",
      "\u001b[34m[09/11/2024 08:58:24 INFO 140708527675200] Epoch[6] Validation-accuracy=0.817708\u001b[0m\n",
      "\u001b[34m[09/11/2024 08:58:28 INFO 140708527675200] Epoch[7] Batch [20]#011Speed: 190.606 samples/sec#011accuracy=0.828869\u001b[0m\n",
      "\u001b[34m[09/11/2024 08:58:30 INFO 140708527675200] Epoch[7] Train-accuracy=0.819556\u001b[0m\n",
      "\u001b[34m[09/11/2024 08:58:30 INFO 140708527675200] Epoch[7] Time cost=5.035\u001b[0m\n",
      "\u001b[34m[09/11/2024 08:58:30 INFO 140708527675200] Epoch[7] Validation-accuracy=0.750000\u001b[0m\n",
      "\u001b[34m[09/11/2024 08:58:34 INFO 140708527675200] Epoch[8] Batch [20]#011Speed: 191.078 samples/sec#011accuracy=0.825893\u001b[0m\n",
      "\u001b[34m[09/11/2024 08:58:36 INFO 140708527675200] Epoch[8] Train-accuracy=0.833669\u001b[0m\n",
      "\u001b[34m[09/11/2024 08:58:36 INFO 140708527675200] Epoch[8] Time cost=4.982\u001b[0m\n",
      "\u001b[34m[09/11/2024 08:58:36 INFO 140708527675200] Epoch[8] Validation-accuracy=0.822917\u001b[0m\n",
      "\u001b[34m[09/11/2024 08:58:40 INFO 140708527675200] Epoch[9] Batch [20]#011Speed: 191.503 samples/sec#011accuracy=0.866071\u001b[0m\n",
      "\u001b[34m[09/11/2024 08:58:42 INFO 140708527675200] Epoch[9] Train-accuracy=0.858871\u001b[0m\n",
      "\u001b[34m[09/11/2024 08:58:42 INFO 140708527675200] Epoch[9] Time cost=5.002\u001b[0m\n",
      "\u001b[34m[09/11/2024 08:58:42 INFO 140708527675200] Epoch[9] Validation-accuracy=0.817708\u001b[0m\n",
      "\u001b[34m[09/11/2024 08:58:46 INFO 140708527675200] Epoch[10] Batch [20]#011Speed: 190.072 samples/sec#011accuracy=0.869048\u001b[0m\n",
      "\u001b[34m[09/11/2024 08:58:48 INFO 140708527675200] Epoch[10] Train-accuracy=0.869960\u001b[0m\n",
      "\u001b[34m[09/11/2024 08:58:48 INFO 140708527675200] Epoch[10] Time cost=5.015\u001b[0m\n",
      "\u001b[34m[09/11/2024 08:58:48 INFO 140708527675200] Epoch[10] Validation-accuracy=0.770833\u001b[0m\n",
      "\u001b[34m[09/11/2024 08:58:52 INFO 140708527675200] Epoch[11] Batch [20]#011Speed: 191.046 samples/sec#011accuracy=0.872024\u001b[0m\n",
      "\u001b[34m[09/11/2024 08:58:53 INFO 140708527675200] Epoch[11] Train-accuracy=0.866935\u001b[0m\n",
      "\u001b[34m[09/11/2024 08:58:53 INFO 140708527675200] Epoch[11] Time cost=4.987\u001b[0m\n",
      "\u001b[34m[09/11/2024 08:58:54 INFO 140708527675200] Epoch[11] Validation-accuracy=0.785714\u001b[0m\n",
      "\u001b[34m[09/11/2024 08:58:58 INFO 140708527675200] Epoch[12] Batch [20]#011Speed: 189.025 samples/sec#011accuracy=0.894345\u001b[0m\n",
      "\u001b[34m[09/11/2024 08:58:59 INFO 140708527675200] Epoch[12] Train-accuracy=0.901210\u001b[0m\n",
      "\u001b[34m[09/11/2024 08:58:59 INFO 140708527675200] Epoch[12] Time cost=5.029\u001b[0m\n",
      "\u001b[34m[09/11/2024 08:59:00 INFO 140708527675200] Epoch[12] Validation-accuracy=0.822917\u001b[0m\n",
      "\u001b[34m[09/11/2024 08:59:04 INFO 140708527675200] Epoch[13] Batch [20]#011Speed: 184.053 samples/sec#011accuracy=0.886905\u001b[0m\n",
      "\u001b[34m[09/11/2024 08:59:06 INFO 140708527675200] Epoch[13] Train-accuracy=0.886089\u001b[0m\n",
      "\u001b[34m[09/11/2024 08:59:06 INFO 140708527675200] Epoch[13] Time cost=5.103\u001b[0m\n",
      "\u001b[34m[09/11/2024 08:59:06 INFO 140708527675200] Epoch[13] Validation-accuracy=0.864583\u001b[0m\n",
      "\u001b[34m[09/11/2024 08:59:06 INFO 140708527675200] Storing the best model with validation accuracy: 0.864583\u001b[0m\n",
      "\u001b[34m[09/11/2024 08:59:07 INFO 140708527675200] Saved checkpoint to \"/opt/ml/model/image-classification-0014.params\"\u001b[0m\n",
      "\u001b[34m[09/11/2024 08:59:10 INFO 140708527675200] Epoch[14] Batch [20]#011Speed: 192.686 samples/sec#011accuracy=0.928571\u001b[0m\n",
      "\u001b[34m[09/11/2024 08:59:12 INFO 140708527675200] Epoch[14] Train-accuracy=0.919355\u001b[0m\n",
      "\u001b[34m[09/11/2024 08:59:12 INFO 140708527675200] Epoch[14] Time cost=4.967\u001b[0m\n",
      "\u001b[34m[09/11/2024 08:59:12 INFO 140708527675200] Epoch[14] Validation-accuracy=0.854167\u001b[0m\n",
      "\u001b[34m[09/11/2024 08:59:16 INFO 140708527675200] Epoch[15] Batch [20]#011Speed: 193.745 samples/sec#011accuracy=0.900298\u001b[0m\n",
      "\u001b[34m[09/11/2024 08:59:18 INFO 140708527675200] Epoch[15] Train-accuracy=0.903226\u001b[0m\n",
      "\u001b[34m[09/11/2024 08:59:18 INFO 140708527675200] Epoch[15] Time cost=4.968\u001b[0m\n",
      "\u001b[34m[09/11/2024 08:59:18 INFO 140708527675200] Epoch[15] Validation-accuracy=0.816964\u001b[0m\n",
      "\u001b[34m[09/11/2024 08:59:22 INFO 140708527675200] Epoch[16] Batch [20]#011Speed: 190.014 samples/sec#011accuracy=0.922619\u001b[0m\n",
      "\u001b[34m[09/11/2024 08:59:24 INFO 140708527675200] Epoch[16] Train-accuracy=0.903226\u001b[0m\n",
      "\u001b[34m[09/11/2024 08:59:24 INFO 140708527675200] Epoch[16] Time cost=5.036\u001b[0m\n",
      "\u001b[34m[09/11/2024 08:59:24 INFO 140708527675200] Epoch[16] Validation-accuracy=0.833333\u001b[0m\n",
      "\u001b[34m[09/11/2024 08:59:28 INFO 140708527675200] Epoch[17] Batch [20]#011Speed: 191.562 samples/sec#011accuracy=0.943452\u001b[0m\n",
      "\u001b[34m[09/11/2024 08:59:29 INFO 140708527675200] Epoch[17] Train-accuracy=0.942540\u001b[0m\n",
      "\u001b[34m[09/11/2024 08:59:29 INFO 140708527675200] Epoch[17] Time cost=4.971\u001b[0m\n",
      "\u001b[34m[09/11/2024 08:59:30 INFO 140708527675200] Epoch[17] Validation-accuracy=0.833333\u001b[0m\n",
      "\u001b[34m[09/11/2024 08:59:34 INFO 140708527675200] Epoch[18] Batch [20]#011Speed: 191.463 samples/sec#011accuracy=0.927083\u001b[0m\n",
      "\u001b[34m[09/11/2024 08:59:35 INFO 140708527675200] Epoch[18] Train-accuracy=0.925403\u001b[0m\n",
      "\u001b[34m[09/11/2024 08:59:35 INFO 140708527675200] Epoch[18] Time cost=4.965\u001b[0m\n",
      "\u001b[34m[09/11/2024 08:59:36 INFO 140708527675200] Epoch[18] Validation-accuracy=0.776042\u001b[0m\n",
      "\u001b[34m[09/11/2024 08:59:40 INFO 140708527675200] Epoch[19] Batch [20]#011Speed: 190.999 samples/sec#011accuracy=0.949405\u001b[0m\n",
      "\u001b[34m[09/11/2024 08:59:41 INFO 140708527675200] Epoch[19] Train-accuracy=0.944556\u001b[0m\n",
      "\u001b[34m[09/11/2024 08:59:41 INFO 140708527675200] Epoch[19] Time cost=4.996\u001b[0m\n",
      "\u001b[34m[09/11/2024 08:59:42 INFO 140708527675200] Epoch[19] Validation-accuracy=0.843750\u001b[0m\n",
      "\u001b[34m[09/11/2024 08:59:46 INFO 140708527675200] Epoch[20] Batch [20]#011Speed: 190.017 samples/sec#011accuracy=0.944940\u001b[0m\n",
      "\u001b[34m[09/11/2024 08:59:47 INFO 140708527675200] Epoch[20] Train-accuracy=0.948589\u001b[0m\n",
      "\u001b[34m[09/11/2024 08:59:47 INFO 140708527675200] Epoch[20] Time cost=5.008\u001b[0m\n",
      "\u001b[34m[09/11/2024 08:59:48 INFO 140708527675200] Epoch[20] Validation-accuracy=0.854167\u001b[0m\n",
      "\u001b[34m[09/11/2024 08:59:52 INFO 140708527675200] Epoch[21] Batch [20]#011Speed: 192.167 samples/sec#011accuracy=0.964286\u001b[0m\n",
      "\u001b[34m[09/11/2024 08:59:53 INFO 140708527675200] Epoch[21] Train-accuracy=0.955645\u001b[0m\n",
      "\u001b[34m[09/11/2024 08:59:53 INFO 140708527675200] Epoch[21] Time cost=4.975\u001b[0m\n",
      "\u001b[34m[09/11/2024 08:59:54 INFO 140708527675200] Epoch[21] Validation-accuracy=0.817708\u001b[0m\n",
      "\u001b[34m[09/11/2024 08:59:57 INFO 140708527675200] Epoch[22] Batch [20]#011Speed: 193.071 samples/sec#011accuracy=0.968750\u001b[0m\n",
      "\u001b[34m[09/11/2024 08:59:59 INFO 140708527675200] Epoch[22] Train-accuracy=0.958669\u001b[0m\n",
      "\u001b[34m[09/11/2024 08:59:59 INFO 140708527675200] Epoch[22] Time cost=4.966\u001b[0m\n",
      "\u001b[34m[09/11/2024 09:00:00 INFO 140708527675200] Epoch[22] Validation-accuracy=0.833333\u001b[0m\n",
      "\u001b[34m[09/11/2024 09:00:04 INFO 140708527675200] Epoch[23] Batch [20]#011Speed: 184.651 samples/sec#011accuracy=0.943452\u001b[0m\n",
      "\u001b[34m[09/11/2024 09:00:05 INFO 140708527675200] Epoch[23] Train-accuracy=0.944556\u001b[0m\n",
      "\u001b[34m[09/11/2024 09:00:05 INFO 140708527675200] Epoch[23] Time cost=5.117\u001b[0m\n",
      "\u001b[34m[09/11/2024 09:00:06 INFO 140708527675200] Epoch[23] Validation-accuracy=0.776786\u001b[0m\n",
      "\u001b[34m[09/11/2024 09:00:09 INFO 140708527675200] Epoch[24] Batch [20]#011Speed: 190.514 samples/sec#011accuracy=0.959821\u001b[0m\n",
      "\u001b[34m[09/11/2024 09:00:11 INFO 140708527675200] Epoch[24] Train-accuracy=0.964718\u001b[0m\n",
      "\u001b[34m[09/11/2024 09:00:11 INFO 140708527675200] Epoch[24] Time cost=5.007\u001b[0m\n",
      "\u001b[34m[09/11/2024 09:00:12 INFO 140708527675200] Epoch[24] Validation-accuracy=0.875000\u001b[0m\n",
      "\u001b[34m[09/11/2024 09:00:12 INFO 140708527675200] Storing the best model with validation accuracy: 0.875000\u001b[0m\n",
      "\u001b[34m[09/11/2024 09:00:12 INFO 140708527675200] Saved checkpoint to \"/opt/ml/model/image-classification-0025.params\"\u001b[0m\n",
      "\u001b[34m[09/11/2024 09:00:16 INFO 140708527675200] Epoch[25] Batch [20]#011Speed: 191.181 samples/sec#011accuracy=0.964286\u001b[0m\n",
      "\u001b[34m[09/11/2024 09:00:17 INFO 140708527675200] Epoch[25] Train-accuracy=0.962702\u001b[0m\n",
      "\u001b[34m[09/11/2024 09:00:17 INFO 140708527675200] Epoch[25] Time cost=5.012\u001b[0m\n",
      "\u001b[34m[09/11/2024 09:00:18 INFO 140708527675200] Epoch[25] Validation-accuracy=0.817708\u001b[0m\n",
      "\u001b[34m[09/11/2024 09:00:22 INFO 140708527675200] Epoch[26] Batch [20]#011Speed: 191.768 samples/sec#011accuracy=0.968750\u001b[0m\n",
      "\u001b[34m[09/11/2024 09:00:23 INFO 140708527675200] Epoch[26] Train-accuracy=0.972782\u001b[0m\n",
      "\u001b[34m[09/11/2024 09:00:23 INFO 140708527675200] Epoch[26] Time cost=4.986\u001b[0m\n",
      "\u001b[34m[09/11/2024 09:00:24 INFO 140708527675200] Epoch[26] Validation-accuracy=0.869792\u001b[0m\n",
      "\u001b[34m[09/11/2024 09:00:27 INFO 140708527675200] Epoch[27] Batch [20]#011Speed: 190.695 samples/sec#011accuracy=0.982143\u001b[0m\n",
      "\u001b[34m[09/11/2024 09:00:29 INFO 140708527675200] Epoch[27] Train-accuracy=0.978831\u001b[0m\n",
      "\u001b[34m[09/11/2024 09:00:29 INFO 140708527675200] Epoch[27] Time cost=4.992\u001b[0m\n",
      "\u001b[34m[09/11/2024 09:00:30 INFO 140708527675200] Epoch[27] Validation-accuracy=0.808036\u001b[0m\n",
      "\u001b[34m[09/11/2024 09:00:33 INFO 140708527675200] Epoch[28] Batch [20]#011Speed: 190.505 samples/sec#011accuracy=0.982143\u001b[0m\n",
      "\u001b[34m[09/11/2024 09:00:35 INFO 140708527675200] Epoch[28] Train-accuracy=0.972782\u001b[0m\n",
      "\u001b[34m[09/11/2024 09:00:35 INFO 140708527675200] Epoch[28] Time cost=4.984\u001b[0m\n",
      "\u001b[34m[09/11/2024 09:00:36 INFO 140708527675200] Epoch[28] Validation-accuracy=0.822917\u001b[0m\n",
      "\u001b[34m[09/11/2024 09:00:39 INFO 140708527675200] Epoch[29] Batch [20]#011Speed: 192.089 samples/sec#011accuracy=0.964286\u001b[0m\n",
      "\u001b[34m[09/11/2024 09:00:41 INFO 140708527675200] Epoch[29] Train-accuracy=0.965726\u001b[0m\n",
      "\u001b[34m[09/11/2024 09:00:41 INFO 140708527675200] Epoch[29] Time cost=4.955\u001b[0m\n",
      "\u001b[34m[09/11/2024 09:00:41 INFO 140708527675200] Epoch[29] Validation-accuracy=0.843750\u001b[0m\n",
      "\n",
      "2024-09-11 09:00:51 Uploading - Uploading generated training model\n",
      "2024-09-11 09:01:04 Completed - Training job completed\n",
      "Training seconds: 558\n",
      "Billable seconds: 558\n"
     ]
    }
   ],
   "source": [
    "## TODO: train your model\n",
    "img_classifier_model.fit(model_inputs)"
   ]
  },
  {
   "cell_type": "markdown",
   "metadata": {},
   "source": [
    "If all goes well, you'll end up with a model topping out above `.8` validation accuracy. With only 1000 training samples in the CIFAR dataset, that's pretty good. We could definitely pursue data augmentation & gathering more samples to help us improve further, but for now let's proceed to deploy our model.\n",
    "\n",
    "### Getting ready to deploy\n",
    "\n",
    "To begin with, let's configure Model Monitor to track our deployment. We'll define a `DataCaptureConfig` below:"
   ]
  },
  {
   "cell_type": "code",
   "execution_count": 111,
   "metadata": {
    "tags": []
   },
   "outputs": [],
   "source": [
    "from sagemaker.model_monitor import DataCaptureConfig\n",
    "\n",
    "data_capture_config = DataCaptureConfig(\n",
    "    ## TODO: Set config options\n",
    "    enable_capture=True,\n",
    "    sampling_percentage=100,\n",
    "    destination_s3_uri=f\"s3://{bucket}/final-project/data_capture\"\n",
    ")"
   ]
  },
  {
   "cell_type": "markdown",
   "metadata": {},
   "source": [
    "Note the `destination_s3_uri` parameter: At the end of the project, we can explore the `data_capture` directory in S3 to find crucial data about the inputs and outputs Model Monitor has observed on our model endpoint over time.\n",
    "\n",
    "With that done, deploy your model on a single `ml.m5.xlarge` instance with the data capture config attached:"
   ]
  },
  {
   "cell_type": "code",
   "execution_count": 112,
   "metadata": {
    "tags": []
   },
   "outputs": [
    {
     "name": "stderr",
     "output_type": "stream",
     "text": [
      "INFO:sagemaker:Creating model with name: image-classification-2024-09-11-09-02-08-226\n",
      "INFO:sagemaker:Creating endpoint-config with name image-classification-2024-09-11-09-02-08-226\n",
      "INFO:sagemaker:Creating endpoint with name image-classification-2024-09-11-09-02-08-226\n"
     ]
    },
    {
     "name": "stdout",
     "output_type": "stream",
     "text": [
      "----------------!image-classification-2024-09-11-09-02-08-226\n"
     ]
    }
   ],
   "source": [
    "deployment = img_classifier_model.deploy(\n",
    "    ## TODO: fill in deployment options\n",
    "    initial_instance_count=1, \n",
    "    instance_type='ml.m5.xlarge',\n",
    "    data_capture_config=data_capture_config\n",
    "    )\n",
    "\n",
    "endpoint = deployment.endpoint_name\n",
    "print(endpoint)"
   ]
  },
  {
   "cell_type": "markdown",
   "metadata": {},
   "source": [
    "print(endpoint)Note the endpoint name for later as well.\n",
    "\n",
    "Next, instantiate a Predictor:"
   ]
  },
  {
   "cell_type": "code",
   "execution_count": 1,
   "metadata": {
    "tags": []
   },
   "outputs": [
    {
     "name": "stderr",
     "output_type": "stream",
     "text": [
      "/home/ec2-user/anaconda3/envs/python3/lib/python3.10/site-packages/sagemaker/base_serializers.py:28: UserWarning: A NumPy version >=1.23.5 and <2.3.0 is required for this version of SciPy (detected version 1.22.4)\n",
      "  import scipy.sparse\n"
     ]
    },
    {
     "name": "stdout",
     "output_type": "stream",
     "text": [
      "sagemaker.config INFO - Not applying SDK defaults from location: /etc/xdg/sagemaker/config.yaml\n",
      "sagemaker.config INFO - Not applying SDK defaults from location: /home/ec2-user/.config/sagemaker/config.yaml\n"
     ]
    }
   ],
   "source": [
    "from sagemaker.predictor import Predictor\n",
    "\n",
    "predictor = Predictor(endpoint_name=endpoint) ## TODO: fill in"
   ]
  },
  {
   "cell_type": "markdown",
   "metadata": {},
   "source": [
    "In the code snippet below we are going to prepare one of your saved images for prediction. Use the predictor to process the `payload`."
   ]
  },
  {
   "cell_type": "code",
   "execution_count": 44,
   "metadata": {
    "tags": []
   },
   "outputs": [],
   "source": [
    "from sagemaker.serializers import IdentitySerializer\n",
    "import base64\n",
    "\n",
    "predictor.serializer = IdentitySerializer(\"image/png\")\n",
    "with open(\"./test/bicycle_s_001789.png\", \"rb\") as f:\n",
    "    payload = f.read()\n",
    "\n",
    "    \n",
    "inference = predictor.predict(payload) ## TODO: Process the payload with your predictor"
   ]
  },
  {
   "cell_type": "markdown",
   "metadata": {},
   "source": [
    "Your `inference` object is an array of two values, the predicted probability value for each of your classes (bicycle and motorcycle respectively.) So, for example, a value of `b'[0.91, 0.09]'` indicates the probability of being a bike is 91% and being a motorcycle is 9%."
   ]
  },
  {
   "cell_type": "code",
   "execution_count": 50,
   "metadata": {
    "tags": []
   },
   "outputs": [
    {
     "name": "stdout",
     "output_type": "stream",
     "text": [
      "b'[0.9995111227035522, 0.0004888849798589945]'\n"
     ]
    }
   ],
   "source": [
    "print(inference)"
   ]
  },
  {
   "cell_type": "markdown",
   "metadata": {},
   "source": [
    "### Draft Lambdas and Step Function Workflow\n",
    "\n",
    "Your operations team uses Step Functions to orchestrate serverless workflows. One of the nice things about Step Functions is that [workflows can call other workflows](https://docs.aws.amazon.com/step-functions/latest/dg/connect-stepfunctions.html), so the team can easily plug your workflow into the broader production architecture for Scones Unlimited.\n",
    "\n",
    "In this next stage you're going to write and deploy three Lambda functions, and then use the Step Functions visual editor to chain them together! Our functions are going to work with a simple data object:\n",
    "\n",
    "```python\n",
    "{\n",
    "    \"inferences\": [], # Output of predictor.predict\n",
    "    \"s3_key\": \"\", # Source data S3 key\n",
    "    \"s3_bucket\": \"\", # Source data S3 bucket\n",
    "    \"image_data\": \"\"  # base64 encoded string containing the image data\n",
    "}\n",
    "```\n",
    "\n",
    "A good test object that you can use for Lambda tests and Step Function executions, throughout the next section, might look like this:\n",
    "\n",
    "```python\n",
    "{\n",
    "  \"image_data\": \"\",\n",
    "  \"s3_bucket\": MY_BUCKET_NAME, # Fill in with your bucket\n",
    "  \"s3_key\": \"test/bicycle_s_000513.png\"\n",
    "}\n",
    "```\n",
    "\n",
    "Using these fields, your functions can read and write the necessary data to execute your workflow. Let's start with the first function. Your first Lambda function will copy an object from S3, base64 encode it, and then return it to the step function as `image_data` in an event.\n",
    "\n",
    "Go to the Lambda dashboard and create a new Lambda function with a descriptive name like \"serializeImageData\" and select thr 'Python 3.8' runtime. Add the same permissions as the SageMaker role you created earlier. (Reminder: you do this in the Configuration tab under \"Permissions\"). Once you're ready, use the starter code below to craft your Lambda handler:\n",
    "\n",
    "```python\n",
    "import json\n",
    "import boto3\n",
    "import base64\n",
    "\n",
    "s3 = boto3.client('s3')\n",
    "\n",
    "def lambda_handler(event, context):\n",
    "    \"\"\"A function to serialize target data from S3\"\"\"\n",
    "    \n",
    "    # Get the s3 address from the Step Function event input\n",
    "    key = ## TODO: fill in\n",
    "    bucket = ## TODO: fill in\n",
    "    \n",
    "    # Download the data from s3 to /tmp/image.png\n",
    "    ## TODO: fill in\n",
    "    \n",
    "    # We read the data from a file\n",
    "    with open(\"/tmp/image.png\", \"rb\") as f:\n",
    "        image_data = base64.b64encode(f.read())\n",
    "\n",
    "    # Pass the data back to the Step Function\n",
    "    print(\"Event:\", event.keys())\n",
    "    return {\n",
    "        'statusCode': 200,\n",
    "        'body': {\n",
    "            \"image_data\": image_data,\n",
    "            \"s3_bucket\": bucket,\n",
    "            \"s3_key\": key,\n",
    "            \"inferences\": []\n",
    "        }\n",
    "    }\n",
    "```\n",
    "\n",
    "The next function is responsible for the classification part - we're going to take the image output from the previous function, decode it, and then pass inferences back to the the Step Function.\n",
    "\n",
    "Because this Lambda will have runtime dependencies (i.e. the SageMaker SDK) you'll need to package them in your function. *Key reading:* https://docs.aws.amazon.com/lambda/latest/dg/python-package-create.html#python-package-create-with-dependency\n",
    "\n",
    "Create a new Lambda function with the same rights and a descriptive name, then fill in the starter code below for your classifier Lambda.\n",
    "\n",
    "```python\n",
    "import json\n",
    "import sagemaker\n",
    "import base64\n",
    "from sagemaker.serializers import IdentitySerializer\n",
    "\n",
    "# Fill this in with the name of your deployed model\n",
    "ENDPOINT = ## TODO: fill in\n",
    "\n",
    "def lambda_handler(event, context):\n",
    "\n",
    "    # Decode the image data\n",
    "    image = base64.b64decode(## TODO: fill in)\n",
    "\n",
    "    # Instantiate a Predictor\n",
    "    predictor = ## TODO: fill in\n",
    "\n",
    "    # For this model the IdentitySerializer needs to be \"image/png\"\n",
    "    predictor.serializer = IdentitySerializer(\"image/png\")\n",
    "    \n",
    "    # Make a prediction:\n",
    "    inferences = ## TODO: fill in\n",
    "    \n",
    "    # We return the data back to the Step Function    \n",
    "    event[\"inferences\"] = inferences.decode('utf-8')\n",
    "    return {\n",
    "        'statusCode': 200,\n",
    "        'body': json.dumps(event)\n",
    "    }\n",
    "```\n",
    "\n",
    "Finally, we need to filter low-confidence inferences. Define a threshold between 1.00 and 0.000 for your model: what is reasonble for you? If the model predicts at `.70` for it's highest confidence label, do we want to pass that inference along to downstream systems? Make one last Lambda function and tee up the same permissions:\n",
    "\n",
    "```python\n",
    "import json\n",
    "\n",
    "\n",
    "THRESHOLD = .93\n",
    "\n",
    "\n",
    "def lambda_handler(event, context):\n",
    "    \n",
    "    # Grab the inferences from the event\n",
    "    inferences = ## TODO: fill in\n",
    "    \n",
    "    # Check if any values in our inferences are above THRESHOLD\n",
    "    meets_threshold = ## TODO: fill in\n",
    "    \n",
    "    # If our threshold is met, pass our data back out of the\n",
    "    # Step Function, else, end the Step Function with an error\n",
    "    if meets_threshold:\n",
    "        pass\n",
    "    else:\n",
    "        raise(\"THRESHOLD_CONFIDENCE_NOT_MET\")\n",
    "\n",
    "    return {\n",
    "        'statusCode': 200,\n",
    "        'body': json.dumps(event)\n",
    "    }\n",
    "```\n",
    "Once you have tested the lambda functions, save the code for each lambda function in a python script called 'lambda.py'.\n",
    "\n",
    "With your lambdas in place, you can use the Step Functions visual editor to construct a workflow that chains them together. In the Step Functions console you'll have the option to author a Standard step function *Visually*.\n",
    "\n",
    "When the visual editor opens, you'll have many options to add transitions in your workflow. We're going to keep it simple and have just one: to invoke Lambda functions. Add three of them chained together. For each one, you'll be able to select the Lambda functions you just created in the proper order, filter inputs and outputs, and give them descriptive names.\n",
    "\n",
    "Make sure that you:\n",
    "\n",
    "1. Are properly filtering the inputs and outputs of your invokations (e.g. `$.body`)\n",
    "2. Take care to remove the error handling from the last function - it's supposed to \"fail loudly\" for your operations colleagues!\n",
    "\n",
    "Take a screenshot of your working step function in action and export the step function as JSON for your submission package."
   ]
  },
  {
   "cell_type": "markdown",
   "metadata": {},
   "source": [
    "arn:aws:sts::846641163109:assumed-role/udacity-project3-lession-3-exercise-4-role-fbxep81h/project-3-final-2-classification is not authorized to perform: sagemaker:InvokeEndpoint on resource: arn:aws:sagemaker:us-east-1:846641163109:endpoint/image-classification-2024-09-11-09-02-08-226 because no identity-based policy allows the sagemaker:InvokeEndpoint action\","
   ]
  },
  {
   "cell_type": "markdown",
   "metadata": {},
   "source": [
    "\n",
    "Great! Now you can use the files in `./test` as test files for our workflow. Depending on our threshold, our workflow should reliably pass predictions about images from `./test` on to downstream systems, while erroring out for inferences below our confidence threshold!\n",
    "\n",
    "### Testing and Evaluation\n",
    "\n",
    "Do several step function invokations using data from the `./test` folder. This process should give you confidence that the workflow both *succeeds* AND *fails* as expected. In addition, SageMaker Model Monitor will generate recordings of your data and inferences which we can visualize.\n",
    "\n",
    "Here's a function that can help you generate test inputs for your invokations:"
   ]
  },
  {
   "cell_type": "code",
   "execution_count": 42,
   "metadata": {
    "tags": []
   },
   "outputs": [
    {
     "data": {
      "text/plain": [
       "'{\"image_data\": \"\", \"s3_bucket\": \"udacity-project-3-trunghoang\", \"s3_key\": \"final-project/test/bicycle_s_001789.png\"}'"
      ]
     },
     "execution_count": 42,
     "metadata": {},
     "output_type": "execute_result"
    }
   ],
   "source": [
    "import random\n",
    "import boto3\n",
    "import json\n",
    "\n",
    "\n",
    "def generate_test_case():\n",
    "    # Setup s3 in boto3\n",
    "    s3 = boto3.resource('s3')\n",
    "    \n",
    "    # Randomly pick from sfn or test folders in our bucket\n",
    "    objects = s3.Bucket(bucket).objects.filter(Prefix=\"final-project/test\")\n",
    "    \n",
    "    # Grab any random object key from that folder!\n",
    "    obj = random.choice([x.key for x in objects])\n",
    "    \n",
    "    return json.dumps({\n",
    "        \"image_data\": \"\",\n",
    "        \"s3_bucket\": bucket,\n",
    "        \"s3_key\": obj\n",
    "    })\n",
    "\n",
    "generate_test_case()"
   ]
  },
  {
   "cell_type": "markdown",
   "metadata": {},
   "source": [
    "In the Step Function dashboard for your new function, you can create new executions and copy in the generated test cases. Do several executions so that you can generate data you can evaluate and visualize.\n",
    "\n",
    "Once you've done several executions, let's visualize the record of our inferences. Pull in the JSONLines data from your inferences like so:"
   ]
  },
  {
   "cell_type": "code",
   "execution_count": 59,
   "metadata": {
    "tags": []
   },
   "outputs": [
    {
     "data": {
      "text/plain": [
       "['captured_data/04-33-922-cccf2c0d-ee62-4c8c-b930-83c3b53b9805.jsonl',\n",
       " 'captured_data/21-18-260-229dcff7-05d3-46ba-927a-cb524dfd9ca7.jsonl',\n",
       " 'captured_data/23-22-718-20eb643f-2f3e-4c57-9eb0-5a608851d7c8.jsonl',\n",
       " 'captured_data/31-55-881-e96fddce-72c1-4c96-ba66-f2e85fb4885f.jsonl',\n",
       " 'captured_data/33-36-260-59f5d55e-86e0-41ea-b709-3ef8e4416dda.jsonl',\n",
       " 'captured_data/41-03-655-ef974f1c-46a3-48ec-ab93-277e4138e423.jsonl',\n",
       " 'captured_data/42-45-365-ce6a4e3c-eb2c-4b44-ac60-5e8f44de86a6.jsonl',\n",
       " 'captured_data/43-57-794-cf60ed1b-08b6-48f1-9d32-483e4c76a6e6.jsonl']"
      ]
     },
     "execution_count": 59,
     "metadata": {},
     "output_type": "execute_result"
    }
   ],
   "source": [
    "from sagemaker.s3 import S3Downloader\n",
    "\n",
    "# In S3 your data will be saved to a datetime-aware path\n",
    "# Find a path related to a datetime you're interested in\n",
    "data_path = \"s3://udacity-project-3-trunghoang/final-project/data_capture/image-classification-2024-09-11-09-02-08-226/AllTraffic/2024/09/11/15/\"\n",
    "S3Downloader.download(data_path, \"captured_data\")\n",
    "\n",
    "# Feel free to repeat this multiple times and pull in more data"
   ]
  },
  {
   "cell_type": "markdown",
   "metadata": {},
   "source": [
    "The data are in JSONLines format, where multiple valid JSON objects are stacked on top of eachother in a single `jsonl` file. We'll import an open-source library, `jsonlines` that was purpose built for parsing this format."
   ]
  },
  {
   "cell_type": "code",
   "execution_count": 60,
   "metadata": {
    "tags": []
   },
   "outputs": [
    {
     "name": "stdout",
     "output_type": "stream",
     "text": [
      "Collecting jsonlines\n",
      "  Downloading jsonlines-4.0.0-py3-none-any.whl.metadata (1.6 kB)\n",
      "Requirement already satisfied: attrs>=19.2.0 in /home/ec2-user/anaconda3/envs/python3/lib/python3.10/site-packages (from jsonlines) (23.2.0)\n",
      "Downloading jsonlines-4.0.0-py3-none-any.whl (8.7 kB)\n",
      "Installing collected packages: jsonlines\n",
      "Successfully installed jsonlines-4.0.0\n"
     ]
    }
   ],
   "source": [
    "!pip install jsonlines\n",
    "import jsonlines"
   ]
  },
  {
   "cell_type": "markdown",
   "metadata": {},
   "source": [
    "Now we can extract the data from each of the source files:"
   ]
  },
  {
   "cell_type": "code",
   "execution_count": 61,
   "metadata": {
    "tags": []
   },
   "outputs": [],
   "source": [
    "import os\n",
    "\n",
    "# List the file names we downloaded\n",
    "file_handles = os.listdir(\"./captured_data\")\n",
    "\n",
    "# Dump all the data into an array\n",
    "json_data = []\n",
    "for jsonl in file_handles:\n",
    "    with jsonlines.open(f\"./captured_data/{jsonl}\") as f:\n",
    "        json_data.append(f.read())"
   ]
  },
  {
   "cell_type": "markdown",
   "metadata": {},
   "source": [
    "The data should now be a list of dictionaries, with significant nesting. We'll give you an example of some code that grabs data out of the objects and visualizes it:"
   ]
  },
  {
   "cell_type": "code",
   "execution_count": 63,
   "metadata": {
    "tags": []
   },
   "outputs": [
    {
     "data": {
      "text/plain": [
       "([0.9721760749816895, 0.027823934331536293], '2024-09-11T15:41:03Z')"
      ]
     },
     "execution_count": 63,
     "metadata": {},
     "output_type": "execute_result"
    }
   ],
   "source": [
    "# Define how we'll get our data\n",
    "def simple_getter(obj):\n",
    "    inferences = obj[\"captureData\"][\"endpointOutput\"][\"data\"]\n",
    "    timestamp = obj[\"eventMetadata\"][\"inferenceTime\"]\n",
    "    return json.loads(inferences), timestamp\n",
    "\n",
    "simple_getter(json_data[0])"
   ]
  },
  {
   "cell_type": "markdown",
   "metadata": {},
   "source": [
    "Finally, here's an example of a visualization you can build with this data. In this last part, you will take some time and build your own - the captured data has the input images, the resulting inferences, and the timestamps."
   ]
  },
  {
   "cell_type": "code",
   "execution_count": 66,
   "metadata": {
    "tags": []
   },
   "outputs": [
    {
     "data": {
      "image/png": "[encoded data removed]",
      "text/plain": [
       "<Figure size 640x480 with 1 Axes>"
      ]
     },
     "metadata": {},
     "output_type": "display_data"
    }
   ],
   "source": [
    "# Populate the data for the x and y axis\n",
    "x = []\n",
    "y = []\n",
    "for obj in json_data:\n",
    "    inference, timestamp = simple_getter(obj)\n",
    "    \n",
    "    y.append(max(inference))\n",
    "    x.append(timestamp)\n",
    "\n",
    "# Todo: here is an visualization example, take some time to build another visual that helps monitor the result\n",
    "# Plot the data\n",
    "plt.scatter(x, y, c=['r' if k<.94 else 'b' for k in y ])\n",
    "plt.axhline(y=0.94, color='g', linestyle='--')\n",
    "plt.ylim(bottom=.88)\n",
    "\n",
    "# Add labels\n",
    "plt.ylabel(\"Confidence\")\n",
    "plt.suptitle(\"Observed Recent Inferences\", size=14)\n",
    "plt.title(\"Pictured with confidence threshold for production use\", size=10)\n",
    "\n",
    "# Give it some pizzaz!\n",
    "plt.style.use(\"Solarize_Light2\")\n",
    "plt.gcf().autofmt_xdate()"
   ]
  },
  {
   "cell_type": "markdown",
   "metadata": {},
   "source": [
    "### Todo: build your own visualization\n"
   ]
  },
  {
   "cell_type": "code",
   "execution_count": null,
   "metadata": {},
   "outputs": [
    {
     "data": {
      "image/png": "[encoded data removed]",
      "text/plain": [
       "<Figure size 1000x600 with 1 Axes>"
      ]
     },
     "metadata": {},
     "output_type": "display_data"
    }
   ],
   "source": [
    "# Create a new figure for line plot\n",
    "plt.figure(figsize=(10, 6))\n",
    "\n",
    "# Plot the data as a line plot\n",
    "plt.plot(x, y, marker='o', color='b', label='Confidence')\n",
    "\n",
    "# Highlight the threshold with a horizontal line\n",
    "plt.axhline(y=0.94, color='g', linestyle='--', label='Threshold (0.94)')\n",
    "\n",
    "# Add shading below the threshold for better visualization\n",
    "plt.fill_between(x, y, 0.94, where=[i < 0.94 for i in y], color='red', alpha=0.3, label='Below Threshold')\n",
    "\n",
    "# Add labels\n",
    "plt.xlabel(\"Timestamp\")\n",
    "plt.ylabel(\"Confidence\")\n",
    "plt.title(\"Inference Confidence Over Time\")\n",
    "\n",
    "# Customize the x-axis with rotated date labels\n",
    "plt.gcf().autofmt_xdate()\n",
    "\n",
    "# Add a legend\n",
    "plt.legend(loc='upper left')\n",
    "\n",
    "# Show grid\n",
    "plt.grid(True)\n",
    "\n",
    "# Display the plot\n",
    "plt.show()\n"
   ]
  },
  {
   "cell_type": "code",
   "execution_count": 84,
   "metadata": {
    "tags": []
   },
   "outputs": [
    {
     "data": {
      "image/png": "[encoded data removed]",
      "text/plain": [
       "<Figure size 1500x400 with 2 Axes>"
      ]
     },
     "metadata": {},
     "output_type": "display_data"
    }
   ],
   "source": [
    "import numpy as np\n",
    "\n",
    "# Convert the timestamps to indices (just their positions)\n",
    "time_indices = np.arange(len(x))\n",
    "\n",
    "# Create a 2D grid for the heatmap, the value in grid will be the confidence score\n",
    "confidence_matrix = np.array(y).reshape(1, -1)\n",
    "\n",
    "# Create a heatmap\n",
    "plt.figure(figsize=(15, 4))\n",
    "plt.imshow(confidence_matrix, aspect='auto', cmap='coolwarm', vmin=0.88, vmax=1.0)\n",
    "\n",
    "# Customize the color bar\n",
    "cbar = plt.colorbar()\n",
    "cbar.set_label('Confidence', rotation=270, labelpad=15)\n",
    "\n",
    "# Add labels to x-axis using timestamps\n",
    "plt.xticks(time_indices, x, rotation=45, ha='right')\n",
    "plt.yticks([])  # Hide y-axis as we only care about one row of data\n",
    "\n",
    "# Add title and labels\n",
    "plt.title(\"Heatmap of Inference Confidence Over Time\", fontsize=16)\n",
    "plt.xlabel(\"Timestamp\")\n",
    "\n",
    "# Highlight the threshold range visually\n",
    "plt.axhline(y=0.5, color='green', linestyle='--', label=\"Threshold (0.94)\")\n",
    "\n",
    "# Display the plot\n",
    "plt.tight_layout()\n",
    "plt.show()\n"
   ]
  },
  {
   "cell_type": "markdown",
   "metadata": {},
   "source": [
    "### Congratulations!\n",
    "\n",
    "You've reached the end of the project. In this project you created an event-drivent ML workflow that can be incorporated into the Scones Unlimited production architecture. You used the SageMaker Estimator API to deploy your SageMaker Model and Endpoint, and you used AWS Lambda and Step Functions to orchestrate your ML workflow. Using SageMaker Model Monitor, you instrumented and observed your Endpoint, and at the end of the project you built a visualization to help stakeholders understand the performance of the Endpoint over time. If you're up for it, you can even go further with these stretch goals:\n",
    "\n",
    "* Extend your workflow to incorporate more classes: the CIFAR dataset includes other vehicles that Scones Unlimited can identify with this model.\n",
    "* Modify your event driven workflow: can you rewrite your Lambda functions so that the workflow can process multiple image inputs in parallel? Can the Step Function \"fan out\" to accomodate this new workflow?\n",
    "* Consider the test data generator we provided for you. Can we use it to create a \"dummy data\" generator, to simulate a continuous stream of input data? Or a big paralell load of data?\n",
    "* What if we want to get notified every time our step function errors out? Can we use the Step Functions visual editor in conjunction with a service like SNS to accomplish this? Try it out!\n",
    "\n",
    "\n"
   ]
  }
 ],
 "metadata": {
  "instance_type": "ml.t3.medium",
  "kernelspec": {
   "display_name": "conda_python3",
   "language": "python",
   "name": "conda_python3"
  },
  "language_info": {
   "codemirror_mode": {
    "name": "ipython",
    "version": 3
   },
   "file_extension": ".py",
   "mimetype": "text/x-python",
   "name": "python",
   "nbconvert_exporter": "python",
   "pygments_lexer": "ipython3",
   "version": "3.10.14"
  }
 },
 "nbformat": 4,
 "nbformat_minor": 4
}
